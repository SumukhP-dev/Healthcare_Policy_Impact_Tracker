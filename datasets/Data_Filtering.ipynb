{
  "nbformat": 4,
  "nbformat_minor": 0,
  "metadata": {
    "colab": {
      "provenance": []
    },
    "kernelspec": {
      "name": "python3",
      "display_name": "Python 3"
    },
    "language_info": {
      "name": "python"
    }
  },
  "cells": [
    {
      "cell_type": "code",
      "source": [
        "import pandas as pd"
      ],
      "metadata": {
        "id": "jCzTebhETLfv"
      },
      "execution_count": 12,
      "outputs": []
    },
    {
      "cell_type": "code",
      "execution_count": 13,
      "metadata": {
        "colab": {
          "base_uri": "https://localhost:8080/"
        },
        "id": "gGl2LDCPKJAj",
        "outputId": "1b556121-a703-4b8d-c977-a4e97542245d"
      },
      "outputs": [
        {
          "output_type": "stream",
          "name": "stdout",
          "text": [
            "                # of Deaths  # of Cases\n",
            "YEAR COUNTY                            \n",
            "2016 Alameda           1622       34012\n",
            "     Amador              38         790\n",
            "     Butte              394       10032\n",
            "     Calaveras           10         310\n",
            "     Colusa               2          14\n",
            "...                     ...         ...\n",
            "2023 Tulare             248        5089\n",
            "     Tuolumne            23         671\n",
            "     Ventura            413        9575\n",
            "     Yolo                26         912\n",
            "     Yuba                95        2265\n",
            "\n",
            "[438 rows x 2 columns]\n"
          ]
        }
      ],
      "source": [
        "# Import csv file\n",
        "df = pd.read_csv('2016-2023-imi-results-long-view.csv')\n",
        "\n",
        "# Remove missing values (NaN or None) from a DataFrame\n",
        "new_df = df.dropna()\n",
        "\n",
        "df_filtered_cols = new_df.drop(['HOSPITAL', 'OSHPDID', 'Procedure/Condition',\n",
        "                               'Risk Adjuested Mortality Rate',\n",
        "                               'Hospital Ratings', 'LONGITUDE', 'LATITUDE'], axis=1)\n",
        "\n",
        "# Change # of Deaths and Cases columns from strings to ints\n",
        "df_filtered_cols[\"# of Deaths\"] = pd.to_numeric(df_filtered_cols[\"# of Deaths\"])\n",
        "df_filtered_cols[\"# of Cases\"] = pd.to_numeric(df_filtered_cols[\"# of Cases\"])\n",
        "\n",
        "# Group columns by Year and County and sum the # of Deaths values of each row grouped\n",
        "df1 = df_filtered_cols.groupby([\"YEAR\",\"COUNTY\"])[\"# of Deaths\"].sum()\n",
        "\n",
        "# Group columns by Year and County and sum the # of Cases of each row grouped\n",
        "df2 = df_filtered_cols.groupby([\"YEAR\",\"COUNTY\"])[\"# of Cases\"].sum()\n",
        "\n",
        "# Combine columns of both # of Cases and Deaths\n",
        "df_cleaned = pd.concat([df1, df2], axis=1)\n",
        "\n",
        "print(df_cleaned)\n",
        "\n",
        "# Export to a csv file\n",
        "df_cleaned.to_csv(\"cleaned_2016-2023-imi-results-long-view.csv\")"
      ]
    },
    {
      "cell_type": "code",
      "source": [
        "# Select columns to read from csv file\n",
        "cols_to_use = [0,2,3,4,6,8]\n",
        "\n",
        "# Import csv file\n",
        "df = pd.read_csv('20230413_adult_demo_race_supp.csv', usecols=cols_to_use)\n",
        "\n",
        "# Remove missing values (NaN or None) from a DataFrame\n",
        "new_df = df.dropna()\n",
        "\n",
        "print(new_df)\n",
        "\n",
        "# Export to a csv file\n",
        "new_df.to_csv(\"cleaned_20230413_adult_demo_race_supp.csv\", index=False)"
      ],
      "metadata": {
        "colab": {
          "base_uri": "https://localhost:8080/"
        },
        "id": "Wf4LHkeyL_rf",
        "outputId": "b63bf06a-9fa7-4bb1-b232-0ee99c8686be"
      },
      "execution_count": 14,
      "outputs": [
        {
          "output_type": "stream",
          "name": "stdout",
          "text": [
            "                POPULATION_NAME  FISCAL_YEAR  \\\n",
            "0                       Alameda         2019   \n",
            "1                       Alameda         2019   \n",
            "2                       Alameda         2019   \n",
            "3                       Alameda         2019   \n",
            "4                       Alameda         2019   \n",
            "...                         ...          ...   \n",
            "18361  Very Large Counties (LA)         2022   \n",
            "18362  Very Large Counties (LA)         2022   \n",
            "18363  Very Large Counties (LA)         2022   \n",
            "18364  Very Large Counties (LA)         2022   \n",
            "18365  Very Large Counties (LA)         2022   \n",
            "\n",
            "                                   RACE_GRP   TOTAL_CT  MHS1_CT  MHS5_CT  \n",
            "0      R1 Alaskan Native or American Indian      851.0    109.0     25.0  \n",
            "1              R2 Asian or Pacific Islander    81208.0   4318.0    911.0  \n",
            "2                                  R3 Black    53823.0   6484.0   1528.0  \n",
            "3                               R4 Hispanic    73645.0   4357.0    891.0  \n",
            "4                                  R5 White    42397.0   5767.0   1924.0  \n",
            "...                                     ...        ...      ...      ...  \n",
            "18361                              R3 Black   303985.0  27002.0  18324.0  \n",
            "18362                           R4 Hispanic  1558305.0  47187.0  31505.0  \n",
            "18363                              R5 White   461040.0  25495.0  17052.0  \n",
            "18364                              R6 Other    65935.0   2630.0   1740.0  \n",
            "18365                            R7 Unknown   180462.0   8393.0   5568.0  \n",
            "\n",
            "[10743 rows x 6 columns]\n"
          ]
        }
      ]
    },
    {
      "cell_type": "code",
      "source": [
        "# Import csv file\n",
        "df = pd.read_csv('4.7-cohs-plans-q4-2024-odp.csv')\n",
        "\n",
        "# Create a dictionary d\n",
        "d = {}\n",
        "\n",
        "# Add the Hospital key to County value pairs\n",
        "d[\"CalOPTIMA/Orange\"] = \"Orange\"\n",
        "d[\"CalOptima/Orange\"] = \"Orange\"\n",
        "d[\"Central California Alliance for Health\"] = \"San Benito, Santa Cruz, Monterey, Merced, Mariposa\"\n",
        "d[\"Gold Coast Health Plan\"] = \"Ventura\"\n",
        "d[\"Partnership Health Plan of CA\"] = \"Del Norte, Colusa, Butte, Placer, Plumas, Siskiyou, Lassen, Solano, Lake, Sierra, Shasta, Glenn, Humboldt, Napa, Yolo, Nevada, Yuba, Trinity, Modoc, Sutter, Mendocino, Tehama, Sonoma, Marin\"\n",
        "d[\"Partnership Health Plan of CA/\"] = \"Del Norte, Colusa, Butte, Placer, Plumas, Siskiyou, Lassen, Solano, Lake, Sierra, Shasta, Glenn, Humboldt, Napa, Yolo, Nevada, Yuba, Trinity, Modoc, Sutter, Mendocino, Tehama, Sonoma, Marin\"\n",
        "d[\"Partnership Health Plan of California/\"] = \"Del Norte, Colusa, Butte, Placer, Plumas, Siskiyou, Lassen, Solano, Lake, Sierra, Shasta, Glenn, Humboldt, Napa, Yolo, Nevada, Yuba, Trinity, Modoc, Sutter, Mendocino, Tehama, Sonoma, Marin\"\n",
        "d[\"Santa Barbara Health Authority\"] = \"Santa Barbara\"\n",
        "d[\"CenCal - San Luis Obispo\"] = \"San Luis Obispo\"\n",
        "d[\"CenCal - Santa Barbara\"] = \"Santa Barbara\"\n",
        "d[\"CenCal Health/San Luis Obispo\"] = \"San Luis Obispo\"\n",
        "d[\"CenCal Health/Santa Barbara\"] = \"Santa Barbara\"\n",
        "d[\"Gold Coast Health Plan/Ventura\"] = \"Ventura\"\n",
        "d[\"Health Plan of San Mateo\"] = \"San Mateo\"\n",
        "d[\"Health Plan of San Mateo/San Mateo\"] = \"San Mateo\"\n",
        "d[\"Partnership Health Plan/Yuba\"] = \"Yuba\"\n",
        "\n",
        "# Replace values in DataFrame using dictionary d\n",
        "for key, value in d.items():\n",
        "  df[\"County Organized Health System (COHS) Health Plan\"] = df[\"County Organized Health System (COHS) Health Plan\"].apply(lambda x: value if x == key else x)\n",
        "\n",
        "# Seperate Kaiser Permanente/{County} row values into seperate rows\n",
        "print(df)\n",
        "for company in df[\"County Organized Health System (COHS) Health Plan\"]:\n",
        "  if \"Kaiser Permanente/\" in company:\n",
        "    county = company.split(\"/\")[1]\n",
        "  else:\n",
        "    county = company\n",
        "  df[\"County Organized Health System (COHS) Health Plan\"] = df[\"County Organized Health System (COHS) Health Plan\"].apply(lambda x: county if x == company else x)\n",
        "print(df)\n",
        "\n",
        "# Iterate over each row in the DataFrame\n",
        "for index, row in df.iterrows():\n",
        "  year = row[\"Year\"]\n",
        "  period = row[\"Reporting Period\"]\n",
        "  county = row[\"County Organized Health System (COHS) Health Plan\"]\n",
        "  eligible = row[\" Number of Eligible Individuals \"]\n",
        "\n",
        "  # Split rows with multiple counties into single rows and drop original row\n",
        "  counties = county.split(\", \")\n",
        "  if len(counties) > 1:\n",
        "    i = df[((df[\"Year\"] == year)\n",
        "    & (df[\"Reporting Period\"] == period)\n",
        "    & (df[\"County Organized Health System (COHS) Health Plan\"] == county)\n",
        "    & (df[\" Number of Eligible Individuals \"] == eligible))].index\n",
        "    df.drop(i, inplace=True)\n",
        "\n",
        "    # Add the new row with the singular county\n",
        "    for countyIndividual in counties:\n",
        "      df.loc[len(df)] = [year, period, countyIndividual, eligible]\n",
        "\n",
        "\n",
        "# Drop the Reporting Period column\n",
        "df_filtered_cols = df.drop(['Reporting Period'], axis=1)\n",
        "\n",
        "# Convert Number of Eligible Individuals numbers with commas to numbers without commas\n",
        "df_filtered_cols[' Number of Eligible Individuals '] = df_filtered_cols[' Number of Eligible Individuals '].str.findall(r'[^\\s,](?:[^,]*[^\\s,])?').str.join('')\n",
        "\n",
        "# Change Number of Eligible Individuals column from strings to ints\n",
        "df_filtered_cols[\" Number of Eligible Individuals \"] = pd.to_numeric(df_filtered_cols[\" Number of Eligible Individuals \"])\n",
        "\n",
        "# Group columns by Year and County Organized Health System (COHS) Health Plan and sum the Number of Eligible Individuals values of each row grouped\n",
        "df_filtered_cols = df_filtered_cols.groupby([\"Year\",\"County Organized Health System (COHS) Health Plan\"])[\" Number of Eligible Individuals \"].sum()\n",
        "\n",
        "# Remove missing values (NaN or None) from a DataFrame\n",
        "new_df = df_filtered_cols.dropna()\n",
        "\n",
        "print(new_df)\n",
        "\n",
        "# Export to a csv file\n",
        "new_df.to_csv(\"cleaned_4.7-cohs-plans-q4-2024-odp.csv\")"
      ],
      "metadata": {
        "id": "7ZHnDduOL-or",
        "outputId": "49d5fdc1-8251-4c2c-c2c8-0c9be40f63ea",
        "colab": {
          "base_uri": "https://localhost:8080/"
        }
      },
      "execution_count": 15,
      "outputs": [
        {
          "output_type": "stream",
          "name": "stdout",
          "text": [
            "     Year Reporting Period  County Organized Health System (COHS) Health Plan  \\\n",
            "0    2016          2016 Q1                                             Orange   \n",
            "1    2016          2016 Q1  San Benito, Santa Cruz, Monterey, Merced, Mari...   \n",
            "2    2016          2016 Q1                                            Ventura   \n",
            "3    2016          2016 Q1                                          San Mateo   \n",
            "4    2016          2016 Q1  Del Norte, Colusa, Butte, Placer, Plumas, Sisk...   \n",
            "..    ...              ...                                                ...   \n",
            "274  2024          2024 Q4                           Kaiser Permanente/Solano   \n",
            "275  2024          2024 Q4                           Kaiser Permanente/Sonoma   \n",
            "276  2024          2024 Q4                          Kaiser Permanente/Ventura   \n",
            "277  2024          2024 Q4                             Kaiser Permanente/Yolo   \n",
            "278  2024          2024 Q4  Del Norte, Colusa, Butte, Placer, Plumas, Sisk...   \n",
            "\n",
            "     Number of Eligible Individuals   \n",
            "0                            13,464   \n",
            "1                             4,133   \n",
            "2                             2,785   \n",
            "3                             1,820   \n",
            "4                             7,536   \n",
            "..                               ...  \n",
            "274                              81   \n",
            "275                              62   \n",
            "276                              46   \n",
            "277                              10   \n",
            "278                           3,874   \n",
            "\n",
            "[279 rows x 4 columns]\n",
            "     Year Reporting Period  County Organized Health System (COHS) Health Plan  \\\n",
            "0    2016          2016 Q1                                             Orange   \n",
            "1    2016          2016 Q1  San Benito, Santa Cruz, Monterey, Merced, Mari...   \n",
            "2    2016          2016 Q1                                            Ventura   \n",
            "3    2016          2016 Q1                                          San Mateo   \n",
            "4    2016          2016 Q1  Del Norte, Colusa, Butte, Placer, Plumas, Sisk...   \n",
            "..    ...              ...                                                ...   \n",
            "274  2024          2024 Q4                                             Solano   \n",
            "275  2024          2024 Q4                                             Sonoma   \n",
            "276  2024          2024 Q4                                            Ventura   \n",
            "277  2024          2024 Q4                                               Yolo   \n",
            "278  2024          2024 Q4  Del Norte, Colusa, Butte, Placer, Plumas, Sisk...   \n",
            "\n",
            "     Number of Eligible Individuals   \n",
            "0                            13,464   \n",
            "1                             4,133   \n",
            "2                             2,785   \n",
            "3                             1,820   \n",
            "4                             7,536   \n",
            "..                               ...  \n",
            "274                              81   \n",
            "275                              62   \n",
            "276                              46   \n",
            "277                              10   \n",
            "278                           3,874   \n",
            "\n",
            "[279 rows x 4 columns]\n"
          ]
        }
      ]
    },
    {
      "cell_type": "code",
      "source": [
        "# Import csv file\n",
        "df = pd.read_csv('data-infant-mortality.csv')\n",
        "\n",
        "# Drop the Category, Subcategory, Rate, Indicator Name,\n",
        "# Lower 95% Confidence Limit, Upper 95% Confidence Limit,\n",
        "# Unnamed: 10, Unnamed: 11, Unnamed: 12, Unnamed: 13, Unnamed: 14 columns\n",
        "df_filtered_cols = df.drop(['Category', 'Subcategory',\n",
        "                            'Rate', 'Indicator Name',\n",
        "                               'Lower 95% Confidence Limit',\n",
        "                               'Upper 95% Confidence Limit',\n",
        "                                'Unnamed: 10', 'Unnamed: 11',\n",
        "                                'Unnamed: 12', 'Unnamed: 13',\n",
        "                                'Unnamed: 14'], axis=1)\n",
        "\n",
        "# Drop the first 2 rows and reset the index values\n",
        "df_filtered_cols = df_filtered_cols.iloc[2:].reset_index()\n",
        "\n",
        "# Drop the index column\n",
        "df_filtered_cols = df_filtered_cols.drop(['index'], axis=1)\n",
        "\n",
        "# Group columns by Geography and Year and sum the Numerator values of each row grouped\n",
        "df1 = df_filtered_cols.groupby([\"Geography\",\"Year\"])[\"Numerator\"].sum()\n",
        "\n",
        "# Group columns by Geography and Year and sum the Denominator values of each row grouped\n",
        "df2 = df_filtered_cols.groupby([\"Geography\",\"Year\"])[\"Denominator\"].sum()\n",
        "\n",
        "# Combine columns of both Numerator and Denominator\n",
        "df_cleaned = pd.concat([df1, df2], axis=1)\n",
        "\n",
        "# Remove missing values (NaN or None) from a DataFrame\n",
        "new_df = df_cleaned.dropna()\n",
        "\n",
        "print(new_df)\n",
        "\n",
        "# Export to a csv file\n",
        "new_df.to_csv(\"cleaned_data-infant-mortality.csv\")"
      ],
      "metadata": {
        "id": "g1D1p-u5LyGH",
        "colab": {
          "base_uri": "https://localhost:8080/"
        },
        "outputId": "4adf9d72-13b8-458c-c980-b5ecaedc3d0f"
      },
      "execution_count": 16,
      "outputs": [
        {
          "output_type": "stream",
          "name": "stdout",
          "text": [
            "                     Numerator  Denominator\n",
            "Geography Year                             \n",
            "Alameda   2007           107.0      21522.0\n",
            "          2007-2009     4913.0    1378297.0\n",
            "          2008            81.0      20977.0\n",
            "          2008-2010     4804.0    1331159.0\n",
            "          2009            82.0      20326.0\n",
            "...                        ...          ...\n",
            "Yuba      2018-2020      281.0      80819.0\n",
            "          2019            12.0       1167.0\n",
            "          2019-2021      278.0      82619.0\n",
            "          2020             0.0       1116.0\n",
            "          2021             0.0       1181.0\n",
            "\n",
            "[1678 rows x 2 columns]\n"
          ]
        }
      ]
    }
  ]
}
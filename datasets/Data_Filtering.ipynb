{
  "nbformat": 4,
  "nbformat_minor": 0,
  "metadata": {
    "colab": {
      "provenance": []
    },
    "kernelspec": {
      "name": "python3",
      "display_name": "Python 3"
    },
    "language_info": {
      "name": "python"
    }
  },
  "cells": [
    {
      "cell_type": "code",
      "execution_count": null,
      "metadata": {
        "colab": {
          "base_uri": "https://localhost:8080/"
        },
        "id": "gGl2LDCPKJAj",
        "outputId": "147384bb-b506-4116-ddba-c4ecc1497656"
      },
      "outputs": [
        {
          "output_type": "stream",
          "name": "stdout",
          "text": [
            "                # of Deaths  # of Cases\n",
            "YEAR COUNTY                            \n",
            "2016 Alameda           1622       34012\n",
            "     Amador              38         790\n",
            "     Butte              394       10032\n",
            "     Calaveras           10         310\n",
            "     Colusa               2          14\n",
            "...                     ...         ...\n",
            "2023 Tulare             248        5089\n",
            "     Tuolumne            23         671\n",
            "     Ventura            413        9575\n",
            "     Yolo                26         912\n",
            "     Yuba                95        2265\n",
            "\n",
            "[438 rows x 2 columns]\n"
          ]
        },
        {
          "output_type": "stream",
          "name": "stderr",
          "text": [
            "/tmp/ipython-input-157-1546423205.py:6: SettingWithCopyWarning: \n",
            "A value is trying to be set on a copy of a slice from a DataFrame\n",
            "\n",
            "See the caveats in the documentation: https://pandas.pydata.org/pandas-docs/stable/user_guide/indexing.html#returning-a-view-versus-a-copy\n",
            "  new_df.dropna(inplace = True)\n"
          ]
        }
      ],
      "source": [
        "import pandas as pd\n",
        "\n",
        "df = pd.read_csv('2016-2023-imi-results-long-view.csv')\n",
        "\n",
        "new_df = df.dropna()\n",
        "new_df.dropna(inplace = True)\n",
        "\n",
        "df_filtered_cols = new_df.drop(['HOSPITAL', 'OSHPDID', 'Procedure/Condition',\n",
        "                               'Risk Adjuested Mortality Rate',\n",
        "                               'Hospital Ratings', 'LONGITUDE', 'LATITUDE'], axis=1)\n",
        "\n",
        "df_filtered_cols[\"# of Deaths\"] = pd.to_numeric(df_filtered_cols[\"# of Deaths\"])\n",
        "df_filtered_cols[\"# of Cases\"] = pd.to_numeric(df_filtered_cols[\"# of Cases\"])\n",
        "\n",
        "df1 = df_filtered_cols.groupby([\"YEAR\",\"COUNTY\"])[\"# of Deaths\"].sum()\n",
        "df2 = df_filtered_cols.groupby([\"YEAR\",\"COUNTY\"])[\"# of Cases\"].sum()\n",
        "\n",
        "df_cleaned = pd.concat([df1, df2], axis=1)\n",
        "\n",
        "print(df_cleaned)\n",
        "\n",
        "df1.to_csv(\"cleaned_2016-2023-imi-results-long-view.csv\")"
      ]
    },
    {
      "cell_type": "code",
      "source": [
        "cols_to_use = [0,2,3,4,6,8]\n",
        "df = pd.read_csv('20230413_adult_demo_race_supp.csv', usecols= cols_to_use)\n",
        "\n",
        "new_df = df.dropna()\n",
        "new_df.dropna(inplace = True)\n",
        "\n",
        "print(new_df)\n",
        "\n",
        "new_df.to_csv(\"cleaned_20230413_adult_demo_race_supp.csv\")"
      ],
      "metadata": {
        "colab": {
          "base_uri": "https://localhost:8080/"
        },
        "id": "Wf4LHkeyL_rf",
        "outputId": "a857d3dd-029a-42ab-f7f9-645609968d35"
      },
      "execution_count": null,
      "outputs": [
        {
          "output_type": "stream",
          "name": "stdout",
          "text": [
            "                POPULATION_NAME  FISCAL_YEAR  \\\n",
            "0                       Alameda         2019   \n",
            "1                       Alameda         2019   \n",
            "2                       Alameda         2019   \n",
            "3                       Alameda         2019   \n",
            "4                       Alameda         2019   \n",
            "...                         ...          ...   \n",
            "18361  Very Large Counties (LA)         2022   \n",
            "18362  Very Large Counties (LA)         2022   \n",
            "18363  Very Large Counties (LA)         2022   \n",
            "18364  Very Large Counties (LA)         2022   \n",
            "18365  Very Large Counties (LA)         2022   \n",
            "\n",
            "                                   RACE_GRP   TOTAL_CT  MHS1_CT  MHS5_CT  \n",
            "0      R1 Alaskan Native or American Indian      851.0    109.0     25.0  \n",
            "1              R2 Asian or Pacific Islander    81208.0   4318.0    911.0  \n",
            "2                                  R3 Black    53823.0   6484.0   1528.0  \n",
            "3                               R4 Hispanic    73645.0   4357.0    891.0  \n",
            "4                                  R5 White    42397.0   5767.0   1924.0  \n",
            "...                                     ...        ...      ...      ...  \n",
            "18361                              R3 Black   303985.0  27002.0  18324.0  \n",
            "18362                           R4 Hispanic  1558305.0  47187.0  31505.0  \n",
            "18363                              R5 White   461040.0  25495.0  17052.0  \n",
            "18364                              R6 Other    65935.0   2630.0   1740.0  \n",
            "18365                            R7 Unknown   180462.0   8393.0   5568.0  \n",
            "\n",
            "[10743 rows x 6 columns]\n"
          ]
        },
        {
          "output_type": "stream",
          "name": "stderr",
          "text": [
            "/tmp/ipython-input-158-2163273563.py:5: SettingWithCopyWarning: \n",
            "A value is trying to be set on a copy of a slice from a DataFrame\n",
            "\n",
            "See the caveats in the documentation: https://pandas.pydata.org/pandas-docs/stable/user_guide/indexing.html#returning-a-view-versus-a-copy\n",
            "  new_df.dropna(inplace = True)\n"
          ]
        }
      ]
    },
    {
      "cell_type": "code",
      "source": [
        "df = pd.read_csv('4.7-cohs-plans-q4-2024-odp.csv')\n",
        "\n",
        "d = {}\n",
        "\n",
        "d[\"CalOPTIMA/Orange\"] = \"Orange\"\n",
        "d[\"CalOptima/Orange\"] = \"Orange\"\n",
        "d[\"Central California Alliance for Health\"] = \"San Benito, Santa Cruz, Monterey, Merced, Mariposa\"\n",
        "d[\"Gold Coast Health Plan\"] = \"Ventura\"\n",
        "d[\"Partnership Health Plan of CA\"] = \"Del Norte, Colusa, Butte, Placer, Plumas, Siskiyou, Lassen, Solano, Lake, Sierra, Shasta, Glenn, Humboldt, Napa, Yolo, Nevada, Yuba, Trinity, Modoc, Sutter, Mendocino, Tehama, Sonoma, Marin\"\n",
        "d[\"Partnership Health Plan of CA/\"] = \"Del Norte, Colusa, Butte, Placer, Plumas, Siskiyou, Lassen, Solano, Lake, Sierra, Shasta, Glenn, Humboldt, Napa, Yolo, Nevada, Yuba, Trinity, Modoc, Sutter, Mendocino, Tehama, Sonoma, Marin\"\n",
        "d[\"Partnership Health Plan of California/\"] = \"Del Norte, Colusa, Butte, Placer, Plumas, Siskiyou, Lassen, Solano, Lake, Sierra, Shasta, Glenn, Humboldt, Napa, Yolo, Nevada, Yuba, Trinity, Modoc, Sutter, Mendocino, Tehama, Sonoma, Marin\"\n",
        "d[\"Santa Barbara Health Authority\"] = \"Santa Barbara\"\n",
        "d[\"CenCal - San Luis Obispo\"] = \"San Luis Obispo\"\n",
        "d[\"CenCal - Santa Barbara\"] = \"Santa Barbara\"\n",
        "d[\"CenCal Health/San Luis Obispo\"] = \"San Luis Obispo\"\n",
        "d[\"CenCal Health/Santa Barbara\"] = \"Santa Barbara\"\n",
        "d[\"Gold Coast Health Plan/Ventura\"] = \"Ventura\"\n",
        "d[\"Health Plan of San Mateo\"] = \"San Mateo\"\n",
        "d[\"Health Plan of San Mateo/San Mateo\"] = \"San Mateo\"\n",
        "d[\"Partnership Health Plan/Yuba\"] = \"Yuba\"\n",
        "\n",
        "for key, value in d.items():\n",
        "  df[\"County Organized Health System (COHS) Health Plan\"] = df[\"County Organized Health System (COHS) Health Plan\"].apply(lambda x: value if x == key else x)\n",
        "\n",
        "for company in df[\"County Organized Health System (COHS) Health Plan\"]:\n",
        "  if \"Kaiser Permanente/\" in company:\n",
        "    county = company.split(\"/\")[1]\n",
        "  else:\n",
        "    county = company\n",
        "  df[\"County Organized Health System (COHS) Health Plan\"] = df[\"County Organized Health System (COHS) Health Plan\"].apply(lambda x: county if x == company else x)\n",
        "\n",
        "for index, row in df.iterrows():\n",
        "  year = row[\"Year\"]\n",
        "  period = row[\"Reporting Period\"]\n",
        "  county = row[\"County Organized Health System (COHS) Health Plan\"]\n",
        "  eligible = row[\" Number of Eligible Individuals \"]\n",
        "\n",
        "  counties = county.split(\", \")\n",
        "  if len(counties) > 1:\n",
        "    i = df[((df[\"Year\"] == year)\n",
        "    & (df[\"Reporting Period\"] == period)\n",
        "    & (df[\"County Organized Health System (COHS) Health Plan\"] == county)\n",
        "    & (df[\" Number of Eligible Individuals \"] == eligible))].index\n",
        "    df.drop(i, inplace=True)\n",
        "\n",
        "    for countyIndividual in counties:\n",
        "      df.loc[len(df)] = [year, period, countyIndividual, eligible]\n",
        "\n",
        "\n",
        "\n",
        "df_filtered_cols = df.drop(['Reporting Period'], axis=1)\n",
        "\n",
        "df_filtered_cols[' Number of Eligible Individuals '] = df_filtered_cols[' Number of Eligible Individuals '].str.findall(r'[^\\s,](?:[^,]*[^\\s,])?').str.join('')\n",
        "df_filtered_cols[\" Number of Eligible Individuals \"] = pd.to_numeric(df_filtered_cols[\" Number of Eligible Individuals \"])\n",
        "\n",
        "df_filtered_cols = df_filtered_cols.groupby([\"Year\",\"County Organized Health System (COHS) Health Plan\"])[\" Number of Eligible Individuals \"].sum()\n",
        "\n",
        "new_df = df_filtered_cols.dropna()\n",
        "new_df.dropna(inplace = True)\n",
        "\n",
        "print(new_df)\n",
        "\n",
        "new_df.to_csv(\"cleaned_4.7-cohs-plans-q4-2024-odp.csv\")"
      ],
      "metadata": {
        "id": "7ZHnDduOL-or",
        "colab": {
          "base_uri": "https://localhost:8080/"
        },
        "outputId": "d4e66e26-1f0c-4f14-eda8-92b00bf8d6f6"
      },
      "execution_count": null,
      "outputs": [
        {
          "output_type": "stream",
          "name": "stdout",
          "text": [
            "Year  County Organized Health System (COHS) Health Plan\n",
            "2016  Marin                                                11584\n",
            "      Mariposa                                              6175\n",
            "      Orange                                               21691\n",
            "      San Mateo                                             2881\n",
            "      Santa Barbara                                         3682\n",
            "                                                           ...  \n",
            "2024  Placer                                                  78\n",
            "      San Luis Obispo                                        654\n",
            "      San Mateo                                             1503\n",
            "      Santa Barbara                                         1087\n",
            "      Ventura                                               1535\n",
            "Name:  Number of Eligible Individuals , Length: 61, dtype: int64\n"
          ]
        }
      ]
    },
    {
      "cell_type": "code",
      "source": [
        "df = pd.read_csv('data-infant-mortality.csv')\n",
        "\n",
        "df_filtered_cols = df.drop(['Category', 'Subcategory',\n",
        "                            'Rate', 'Indicator Name',\n",
        "                               'Lower 95% Confidence Limit',\n",
        "                               'Upper 95% Confidence Limit',\n",
        "                                'Unnamed: 10', 'Unnamed: 11',\n",
        "                                'Unnamed: 12', 'Unnamed: 13',\n",
        "                                'Unnamed: 14'], axis=1)\n",
        "\n",
        "df_filtered_cols = df_filtered_cols.iloc[2:].reset_index()\n",
        "df_filtered_cols = df_filtered_cols.drop(['index'], axis=1)\n",
        "\n",
        "\n",
        "df1 = df_filtered_cols.groupby([\"Geography\",\"Year\"])[\"Numerator\"].sum()\n",
        "df2 = df_filtered_cols.groupby([\"Geography\",\"Year\"])[\"Denominator\"].sum()\n",
        "\n",
        "df_cleaned = pd.concat([df1, df2], axis=1)\n",
        "\n",
        "new_df = df_cleaned.dropna()\n",
        "new_df.dropna(inplace = True)\n",
        "\n",
        "print(new_df)\n",
        "new_df.to_csv(\"cleaned_data-infant-mortality.csv\")"
      ],
      "metadata": {
        "colab": {
          "base_uri": "https://localhost:8080/"
        },
        "id": "g1D1p-u5LyGH",
        "outputId": "66872dae-23df-4a29-8eb9-9219e513609a"
      },
      "execution_count": null,
      "outputs": [
        {
          "output_type": "stream",
          "name": "stdout",
          "text": [
            "                     Numerator  Denominator\n",
            "Geography Year                             \n",
            "Alameda   2007           107.0      21522.0\n",
            "          2007-2009     4913.0    1378297.0\n",
            "          2008            81.0      20977.0\n",
            "          2008-2010     4804.0    1331159.0\n",
            "          2009            82.0      20326.0\n",
            "...                        ...          ...\n",
            "Yuba      2018-2020      281.0      80819.0\n",
            "          2019            12.0       1167.0\n",
            "          2019-2021      278.0      82619.0\n",
            "          2020             0.0       1116.0\n",
            "          2021             0.0       1181.0\n",
            "\n",
            "[1678 rows x 2 columns]\n"
          ]
        }
      ]
    }
  ]
}